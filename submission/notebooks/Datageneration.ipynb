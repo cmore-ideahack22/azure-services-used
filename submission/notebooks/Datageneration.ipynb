{
 "cells": [
  {
   "cell_type": "code",
   "execution_count": 161,
   "id": "50613f80",
   "metadata": {},
   "outputs": [],
   "source": [
    "import numpy as np\n",
    "import pandas as pd\n",
    "import matplotlib.pyplot as plt\n",
    "import seaborn as sn"
   ]
  },
  {
   "cell_type": "code",
   "execution_count": 162,
   "id": "619c592f",
   "metadata": {},
   "outputs": [
    {
     "data": {
      "text/plain": [
       "Index(['id', 'income', 'familysize'], dtype='object')"
      ]
     },
     "execution_count": 162,
     "metadata": {},
     "output_type": "execute_result"
    }
   ],
   "source": [
    "data = pd.read_csv('MOCK_DATA(3).csv',index_col = False)\n",
    "data.columns"
   ]
  },
  {
   "cell_type": "code",
   "execution_count": 163,
   "id": "8681aa20",
   "metadata": {},
   "outputs": [],
   "source": [
    "income = data.loc[:,'income']"
   ]
  },
  {
   "cell_type": "code",
   "execution_count": 164,
   "id": "f3428948",
   "metadata": {},
   "outputs": [],
   "source": [
    "mu, sigma = 0, 10000 # mean and standard deviation\n",
    "\n",
    "s = np.random.normal(mu, sigma, 1000)\n",
    "income = income + s"
   ]
  },
  {
   "cell_type": "code",
   "execution_count": 165,
   "id": "739f554e",
   "metadata": {},
   "outputs": [],
   "source": [
    "def generate_correlated_education(income):\n",
    "    column = []\n",
    "    for entry in income:\n",
    "        if entry <= 40000:\n",
    "            column.append(1)\n",
    "        elif entry <= 60000:\n",
    "            column.append(2)\n",
    "        else: \n",
    "            column.append(3)\n",
    "            \n",
    "    return column"
   ]
  },
  {
   "cell_type": "code",
   "execution_count": 166,
   "id": "6f40ebfa",
   "metadata": {},
   "outputs": [],
   "source": [
    "mu, sigma = 0, 10000 # mean and standard deviation\n",
    "\n",
    "s = np.random.normal(mu, sigma, 1000)\n",
    "income = income + s"
   ]
  },
  {
   "cell_type": "code",
   "execution_count": 167,
   "id": "34673dda",
   "metadata": {},
   "outputs": [],
   "source": [
    "def generate_correlated_age(income):\n",
    "    column = []\n",
    "    for entry in income:\n",
    "        if entry <= 40000:\n",
    "            column.append(1)\n",
    "        elif entry <= 60000:\n",
    "            column.append(2)\n",
    "        else: \n",
    "            column.append(3)\n",
    "            \n",
    "    return column"
   ]
  },
  {
   "cell_type": "code",
   "execution_count": 168,
   "id": "67d06536",
   "metadata": {},
   "outputs": [],
   "source": [
    "mu, sigma = 0, 10000 # mean and standard deviation\n",
    "\n",
    "s = np.random.normal(mu, sigma, 1000)\n",
    "income = income + s"
   ]
  },
  {
   "cell_type": "code",
   "execution_count": 169,
   "id": "ac3e2a23",
   "metadata": {},
   "outputs": [],
   "source": [
    "def generate_correlated_occupacion(income):\n",
    "    column = []\n",
    "    for entry in income:\n",
    "        if entry <= 40000:\n",
    "            column.append(1)\n",
    "        elif entry <= 50000:\n",
    "            column.append(2)\n",
    "        elif entry <= 60000:\n",
    "            column.append(3)\n",
    "        elif entry <= 70000:\n",
    "            column.append(4)\n",
    "        else: \n",
    "            column.append(5)\n",
    "            \n",
    "    return column"
   ]
  },
  {
   "cell_type": "code",
   "execution_count": 170,
   "id": "15bc584b",
   "metadata": {},
   "outputs": [],
   "source": [
    "mu, sigma = 0, 10000 # mean and standard deviation\n",
    "\n",
    "s = np.random.normal(mu, sigma, 1000)\n",
    "income = income + s"
   ]
  },
  {
   "cell_type": "code",
   "execution_count": 171,
   "id": "b029270c",
   "metadata": {},
   "outputs": [],
   "source": [
    "def generate_correlated_country(income):\n",
    "    column = []\n",
    "    for entry in income:\n",
    "        if entry <= 40000:\n",
    "            column.append(1)\n",
    "        elif entry <= 50000:\n",
    "            column.append(2)\n",
    "        elif entry <= 60000:\n",
    "            column.append(3)\n",
    "        elif entry <= 70000:\n",
    "            column.append(4)\n",
    "        else: \n",
    "            column.append(5)\n",
    "            \n",
    "    return column"
   ]
  },
  {
   "cell_type": "code",
   "execution_count": 172,
   "id": "63509052",
   "metadata": {},
   "outputs": [],
   "source": [
    "mu, sigma = 0, 10000 # mean and standard deviation\n",
    "\n",
    "s = np.random.normal(mu, sigma, 1000)\n",
    "income = income + s"
   ]
  },
  {
   "cell_type": "code",
   "execution_count": 173,
   "id": "f65d6873",
   "metadata": {},
   "outputs": [],
   "source": [
    "def generate_correlated_gender(income):\n",
    "    column = []\n",
    "    for entry in income:\n",
    "        if entry <= 40000:\n",
    "            column.append(0)\n",
    "        else:\n",
    "            column.append(1)\n",
    "            \n",
    "    return column"
   ]
  },
  {
   "cell_type": "code",
   "execution_count": 174,
   "id": "c581ec95",
   "metadata": {},
   "outputs": [],
   "source": [
    "mu, sigma = 0, 10000 # mean and standard deviation\n",
    "\n",
    "s = np.random.normal(mu, sigma, 1000)\n",
    "income = income + s"
   ]
  },
  {
   "cell_type": "code",
   "execution_count": 175,
   "id": "97008e05",
   "metadata": {},
   "outputs": [],
   "source": [
    "data['education'] = generate_correlated_education(income)\n"
   ]
  },
  {
   "cell_type": "code",
   "execution_count": 176,
   "id": "99dfbd44",
   "metadata": {},
   "outputs": [],
   "source": [
    "mu, sigma = 0, 10000 # mean and standard deviation\n",
    "\n",
    "s = np.random.normal(mu, sigma, 1000)\n",
    "income = income + s"
   ]
  },
  {
   "cell_type": "code",
   "execution_count": 177,
   "id": "06af694d",
   "metadata": {},
   "outputs": [],
   "source": [
    "data['age'] = generate_correlated_age(income)"
   ]
  },
  {
   "cell_type": "code",
   "execution_count": 178,
   "id": "56ef10dd",
   "metadata": {},
   "outputs": [],
   "source": [
    "mu, sigma = 0, 10000 # mean and standard deviation\n",
    "\n",
    "s = np.random.normal(mu, sigma, 1000)\n",
    "income = income + s"
   ]
  },
  {
   "cell_type": "code",
   "execution_count": 179,
   "id": "a9287c9f",
   "metadata": {},
   "outputs": [],
   "source": [
    "data['gender'] = generate_correlated_gender(income)"
   ]
  },
  {
   "cell_type": "code",
   "execution_count": 180,
   "id": "dfbda03f",
   "metadata": {},
   "outputs": [],
   "source": [
    "mu, sigma = 0, 10000 # mean and standard deviation\n",
    "\n",
    "s = np.random.normal(mu, sigma, 1000)\n",
    "income = income + s"
   ]
  },
  {
   "cell_type": "code",
   "execution_count": 181,
   "id": "2aea7fb3",
   "metadata": {},
   "outputs": [],
   "source": [
    "data['occupacion'] = generate_correlated_occupacion(income)"
   ]
  },
  {
   "cell_type": "code",
   "execution_count": 182,
   "id": "a042a183",
   "metadata": {},
   "outputs": [],
   "source": [
    "mu, sigma = 0, 10000 # mean and standard deviation\n",
    "\n",
    "s = np.random.normal(mu, sigma, 1000)\n",
    "income = income + s"
   ]
  },
  {
   "cell_type": "code",
   "execution_count": 183,
   "id": "8bd93318",
   "metadata": {},
   "outputs": [],
   "source": [
    "data['country'] = generate_correlated_occupacion(income)"
   ]
  },
  {
   "cell_type": "code",
   "execution_count": 184,
   "id": "e6ed2b40",
   "metadata": {},
   "outputs": [],
   "source": [
    "mu, sigma = 0, 10000 # mean and standard deviation\n",
    "\n",
    "s = np.random.normal(mu, sigma, 1000)\n",
    "income = income + s"
   ]
  },
  {
   "cell_type": "code",
   "execution_count": 185,
   "id": "37e2909c",
   "metadata": {},
   "outputs": [
    {
     "data": {
      "text/plain": [
       "Index(['id', 'income', 'familysize', 'education', 'age', 'gender',\n",
       "       'occupacion', 'country'],\n",
       "      dtype='object')"
      ]
     },
     "execution_count": 185,
     "metadata": {},
     "output_type": "execute_result"
    }
   ],
   "source": [
    "data.columns"
   ]
  },
  {
   "cell_type": "code",
   "execution_count": 186,
   "id": "6c5c888f",
   "metadata": {},
   "outputs": [],
   "source": [
    "data.drop(columns=['id'],inplace=True)"
   ]
  },
  {
   "cell_type": "code",
   "execution_count": 187,
   "id": "6d6f2011",
   "metadata": {},
   "outputs": [
    {
     "data": {
      "image/png": "[encoded data removed]",
      "text/plain": [
       "<Figure size 432x288 with 2 Axes>"
      ]
     },
     "metadata": {
      "needs_background": "light"
     },
     "output_type": "display_data"
    }
   ],
   "source": [
    "corrMatrix = data.corr()\n",
    "sn.heatmap(corrMatrix, annot=True)\n",
    "plt.show()"
   ]
  }
 ],
 "metadata": {
  "kernelspec": {
   "display_name": "Python 3 (ipykernel)",
   "language": "python",
   "name": "python3"
  },
  "language_info": {
   "codemirror_mode": {
    "name": "ipython",
    "version": 3
   },
   "file_extension": ".py",
   "mimetype": "text/x-python",
   "name": "python",
   "nbconvert_exporter": "python",
   "pygments_lexer": "ipython3",
   "version": "3.9.7"
  }
 },
 "nbformat": 4,
 "nbformat_minor": 5
}
